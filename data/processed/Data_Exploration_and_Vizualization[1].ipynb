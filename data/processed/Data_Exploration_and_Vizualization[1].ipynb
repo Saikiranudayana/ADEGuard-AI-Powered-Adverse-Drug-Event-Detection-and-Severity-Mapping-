{
  "cells": [
    {
      "cell_type": "code",
      "execution_count": 1,
      "id": "321e1807",
      "metadata": {},
      "outputs": [
        {
          "name": "stdout",
          "output_type": "stream",
          "text": [
            "Defaulting to user installation because normal site-packages is not writeableNote: you may need to restart the kernel to use updated packages.\n",
            "\n",
            "Requirement already satisfied: plotly in c:\\programdata\\anaconda3\\lib\\site-packages (5.24.1)\n",
            "Requirement already satisfied: tenacity>=6.2.0 in c:\\programdata\\anaconda3\\lib\\site-packages (from plotly) (9.0.0)\n",
            "Requirement already satisfied: packaging in c:\\programdata\\anaconda3\\lib\\site-packages (from plotly) (24.2)\n"
          ]
        }
      ],
      "source": [
        "pip install plotly"
      ]
    },
    {
      "cell_type": "code",
      "execution_count": 2,
      "id": "1b8e7286-7cd6-40b9-a9b6-13ab40f3a084",
      "metadata": {
        "id": "1b8e7286-7cd6-40b9-a9b6-13ab40f3a084"
      },
      "outputs": [],
      "source": [
        "#-------------------------\n",
        "# step 1: Importing Libraries\n",
        "#-------------------------\n",
        "\n",
        "import pandas as pd\n",
        "import matplotlib.pyplot as plt\n",
        "import seaborn as sns\n",
        "import plotly.express as px"
      ]
    },
    {
      "cell_type": "markdown",
      "id": "d6c5473f",
      "metadata": {},
      "source": [
        "# Step 1: Data Exploration Documentation\n",
        "This notebook explores and visualizes vaccine adverse event data. The following steps will help anyone understand the dataset and the analysis process:\n",
        "- **Importing Libraries:** Essential Python libraries for data analysis and visualization are imported.\n",
        "- **Loading Data:** The cleaned CSV file is loaded into a pandas DataFrame for further exploration.\n",
        "- **Column Overview:** Key columns include unique identifiers, patient demographics, symptoms, vaccine details, and more.\n",
        "- **Purpose:** The goal is to analyze patterns, distributions, and insights related to vaccine reports in the USA.\n",
        "---"
      ]
    },
    {
      "cell_type": "code",
      "execution_count": 4,
      "id": "7fb98e86-6f34-4a18-ba09-a7549ec2adf2",
      "metadata": {
        "id": "7fb98e86-6f34-4a18-ba09-a7549ec2adf2"
      },
      "outputs": [],
      "source": [
        "#------------------------------\n",
        "# step 2 : Loading into the CSV\n",
        "#------------------------------\n",
        "cdf = pd.read_csv('datacleaned.csv',low_memory=True)"
      ]
    },
    {
      "cell_type": "code",
      "execution_count": 5,
      "id": "992bf449-1faf-46bb-ba3a-90707233dea8",
      "metadata": {
        "id": "992bf449-1faf-46bb-ba3a-90707233dea8",
        "outputId": "2f828665-4ff9-4c8b-fc95-d7f3361480dc"
      },
      "outputs": [
        {
          "data": {
            "text/html": [
              "<div>\n",
              "<style scoped>\n",
              "    .dataframe tbody tr th:only-of-type {\n",
              "        vertical-align: middle;\n",
              "    }\n",
              "\n",
              "    .dataframe tbody tr th {\n",
              "        vertical-align: top;\n",
              "    }\n",
              "\n",
              "    .dataframe thead th {\n",
              "        text-align: right;\n",
              "    }\n",
              "</style>\n",
              "<table border=\"1\" class=\"dataframe\">\n",
              "  <thead>\n",
              "    <tr style=\"text-align: right;\">\n",
              "      <th></th>\n",
              "      <th>0</th>\n",
              "      <th>1</th>\n",
              "      <th>2</th>\n",
              "      <th>3</th>\n",
              "      <th>4</th>\n",
              "    </tr>\n",
              "  </thead>\n",
              "  <tbody>\n",
              "    <tr>\n",
              "      <th>VAERS_ID</th>\n",
              "      <td>810053</td>\n",
              "      <td>810053</td>\n",
              "      <td>855017</td>\n",
              "      <td>855018</td>\n",
              "      <td>855018</td>\n",
              "    </tr>\n",
              "    <tr>\n",
              "      <th>STATE</th>\n",
              "      <td>OH</td>\n",
              "      <td>OH</td>\n",
              "      <td>HI</td>\n",
              "      <td>WI</td>\n",
              "      <td>WI</td>\n",
              "    </tr>\n",
              "    <tr>\n",
              "      <th>AGE_YRS</th>\n",
              "      <td>73.0</td>\n",
              "      <td>73.0</td>\n",
              "      <td>55.0</td>\n",
              "      <td>68.0</td>\n",
              "      <td>68.0</td>\n",
              "    </tr>\n",
              "    <tr>\n",
              "      <th>SEX</th>\n",
              "      <td>F</td>\n",
              "      <td>F</td>\n",
              "      <td>F</td>\n",
              "      <td>F</td>\n",
              "      <td>F</td>\n",
              "    </tr>\n",
              "    <tr>\n",
              "      <th>SYMPTOM_TEXT</th>\n",
              "      <td>Extreme shivering for approx. 5 hours then fev...</td>\n",
              "      <td>Extreme shivering for approx. 5 hours then fev...</td>\n",
              "      <td>Symptoms occurred almost immediately- aching j...</td>\n",
              "      <td>Extreme pain, muscle weakness in right arm so ...</td>\n",
              "      <td>Extreme pain, muscle weakness in right arm so ...</td>\n",
              "    </tr>\n",
              "    <tr>\n",
              "      <th>RECOVD</th>\n",
              "      <td>U</td>\n",
              "      <td>U</td>\n",
              "      <td>N</td>\n",
              "      <td>Y</td>\n",
              "      <td>Y</td>\n",
              "    </tr>\n",
              "    <tr>\n",
              "      <th>V_ADMINBY</th>\n",
              "      <td>PVT</td>\n",
              "      <td>PVT</td>\n",
              "      <td>MIL</td>\n",
              "      <td>PHM</td>\n",
              "      <td>PHM</td>\n",
              "    </tr>\n",
              "    <tr>\n",
              "      <th>FORM_VERS</th>\n",
              "      <td>2</td>\n",
              "      <td>2</td>\n",
              "      <td>2</td>\n",
              "      <td>2</td>\n",
              "      <td>2</td>\n",
              "    </tr>\n",
              "    <tr>\n",
              "      <th>ORDER</th>\n",
              "      <td>2</td>\n",
              "      <td>2</td>\n",
              "      <td>1</td>\n",
              "      <td>1</td>\n",
              "      <td>1</td>\n",
              "    </tr>\n",
              "    <tr>\n",
              "      <th>ORDER.1</th>\n",
              "      <td>2</td>\n",
              "      <td>2</td>\n",
              "      <td>1</td>\n",
              "      <td>1</td>\n",
              "      <td>1</td>\n",
              "    </tr>\n",
              "    <tr>\n",
              "      <th>SYMPTOM1</th>\n",
              "      <td>Asthenia</td>\n",
              "      <td>Pain</td>\n",
              "      <td>Arthralgia</td>\n",
              "      <td>Chills</td>\n",
              "      <td>Muscular weakness</td>\n",
              "    </tr>\n",
              "    <tr>\n",
              "      <th>SYMPTOMVERSION1</th>\n",
              "      <td>22.1</td>\n",
              "      <td>22.1</td>\n",
              "      <td>22.1</td>\n",
              "      <td>22.1</td>\n",
              "      <td>22.1</td>\n",
              "    </tr>\n",
              "    <tr>\n",
              "      <th>VAX_TYPE</th>\n",
              "      <td>FLU3</td>\n",
              "      <td>FLU3</td>\n",
              "      <td>VARZOS</td>\n",
              "      <td>UNK</td>\n",
              "      <td>UNK</td>\n",
              "    </tr>\n",
              "    <tr>\n",
              "      <th>VAX_MANU</th>\n",
              "      <td>SANOFI PASTEUR</td>\n",
              "      <td>SANOFI PASTEUR</td>\n",
              "      <td>GLAXOSMITHKLINE BIOLOGICALS</td>\n",
              "      <td>UNKNOWN MANUFACTURER</td>\n",
              "      <td>UNKNOWN MANUFACTURER</td>\n",
              "    </tr>\n",
              "    <tr>\n",
              "      <th>VAX_NAME</th>\n",
              "      <td>INFLUENZA (SEASONAL) (FLUZONE HIGH-DOSE)</td>\n",
              "      <td>INFLUENZA (SEASONAL) (FLUZONE HIGH-DOSE)</td>\n",
              "      <td>ZOSTER (SHINGRIX)</td>\n",
              "      <td>VACCINE NOT SPECIFIED (OTHER)</td>\n",
              "      <td>VACCINE NOT SPECIFIED (OTHER)</td>\n",
              "    </tr>\n",
              "  </tbody>\n",
              "</table>\n",
              "</div>"
            ],
            "text/plain": [
              "                                                                 0  \\\n",
              "VAERS_ID                                                    810053   \n",
              "STATE                                                           OH   \n",
              "AGE_YRS                                                       73.0   \n",
              "SEX                                                              F   \n",
              "SYMPTOM_TEXT     Extreme shivering for approx. 5 hours then fev...   \n",
              "RECOVD                                                           U   \n",
              "V_ADMINBY                                                      PVT   \n",
              "FORM_VERS                                                        2   \n",
              "ORDER                                                            2   \n",
              "ORDER.1                                                          2   \n",
              "SYMPTOM1                                                  Asthenia   \n",
              "SYMPTOMVERSION1                                               22.1   \n",
              "VAX_TYPE                                                      FLU3   \n",
              "VAX_MANU                                            SANOFI PASTEUR   \n",
              "VAX_NAME                  INFLUENZA (SEASONAL) (FLUZONE HIGH-DOSE)   \n",
              "\n",
              "                                                                 1  \\\n",
              "VAERS_ID                                                    810053   \n",
              "STATE                                                           OH   \n",
              "AGE_YRS                                                       73.0   \n",
              "SEX                                                              F   \n",
              "SYMPTOM_TEXT     Extreme shivering for approx. 5 hours then fev...   \n",
              "RECOVD                                                           U   \n",
              "V_ADMINBY                                                      PVT   \n",
              "FORM_VERS                                                        2   \n",
              "ORDER                                                            2   \n",
              "ORDER.1                                                          2   \n",
              "SYMPTOM1                                                      Pain   \n",
              "SYMPTOMVERSION1                                               22.1   \n",
              "VAX_TYPE                                                      FLU3   \n",
              "VAX_MANU                                            SANOFI PASTEUR   \n",
              "VAX_NAME                  INFLUENZA (SEASONAL) (FLUZONE HIGH-DOSE)   \n",
              "\n",
              "                                                                 2  \\\n",
              "VAERS_ID                                                    855017   \n",
              "STATE                                                           HI   \n",
              "AGE_YRS                                                       55.0   \n",
              "SEX                                                              F   \n",
              "SYMPTOM_TEXT     Symptoms occurred almost immediately- aching j...   \n",
              "RECOVD                                                           N   \n",
              "V_ADMINBY                                                      MIL   \n",
              "FORM_VERS                                                        2   \n",
              "ORDER                                                            1   \n",
              "ORDER.1                                                          1   \n",
              "SYMPTOM1                                                Arthralgia   \n",
              "SYMPTOMVERSION1                                               22.1   \n",
              "VAX_TYPE                                                    VARZOS   \n",
              "VAX_MANU                               GLAXOSMITHKLINE BIOLOGICALS   \n",
              "VAX_NAME                                         ZOSTER (SHINGRIX)   \n",
              "\n",
              "                                                                 3  \\\n",
              "VAERS_ID                                                    855018   \n",
              "STATE                                                           WI   \n",
              "AGE_YRS                                                       68.0   \n",
              "SEX                                                              F   \n",
              "SYMPTOM_TEXT     Extreme pain, muscle weakness in right arm so ...   \n",
              "RECOVD                                                           Y   \n",
              "V_ADMINBY                                                      PHM   \n",
              "FORM_VERS                                                        2   \n",
              "ORDER                                                            1   \n",
              "ORDER.1                                                          1   \n",
              "SYMPTOM1                                                    Chills   \n",
              "SYMPTOMVERSION1                                               22.1   \n",
              "VAX_TYPE                                                       UNK   \n",
              "VAX_MANU                                      UNKNOWN MANUFACTURER   \n",
              "VAX_NAME                             VACCINE NOT SPECIFIED (OTHER)   \n",
              "\n",
              "                                                                 4  \n",
              "VAERS_ID                                                    855018  \n",
              "STATE                                                           WI  \n",
              "AGE_YRS                                                       68.0  \n",
              "SEX                                                              F  \n",
              "SYMPTOM_TEXT     Extreme pain, muscle weakness in right arm so ...  \n",
              "RECOVD                                                           Y  \n",
              "V_ADMINBY                                                      PHM  \n",
              "FORM_VERS                                                        2  \n",
              "ORDER                                                            1  \n",
              "ORDER.1                                                          1  \n",
              "SYMPTOM1                                         Muscular weakness  \n",
              "SYMPTOMVERSION1                                               22.1  \n",
              "VAX_TYPE                                                       UNK  \n",
              "VAX_MANU                                      UNKNOWN MANUFACTURER  \n",
              "VAX_NAME                             VACCINE NOT SPECIFIED (OTHER)  "
            ]
          },
          "execution_count": 5,
          "metadata": {},
          "output_type": "execute_result"
        }
      ],
      "source": [
        "#------------------------------\n",
        "# step 2.1 : Column Exploration\n",
        "#------------------------------\n",
        "cdf.head().T"
      ]
    },
    {
      "cell_type": "markdown",
      "id": "XQKdtV5brsIN",
      "metadata": {
        "id": "XQKdtV5brsIN"
      },
      "source": [
        "# column exploration\n",
        "- Vares stand for Vaccine Adverse Reporting System\n",
        "- VARES ID --> Unique ID\n",
        "- STATE --> states of USA\n",
        "- AGE_YR --> age of the pateint\n",
        "- SEX --> gender of the pateint\n",
        "- SYMPTOM_TEXT - summary of the symptom and description\n",
        "- RECOVD - Recoverd (U,Y,N)\n",
        "- V_ADMINBY - Vaccine from\n",
        "- FORM_VERS - VERS form\n",
        "- ORDER - ORDER unwue value\n",
        "- SYMPTOM1 - specific symptom\n",
        "- SYMPTOM VERSION1 - the version of the symptom\n",
        "- VAX_TYPE - the type of the vaxination\n",
        "- VAX_MANU - the manufacturer of the particular vaccine\n",
        "- VAX_ NAME - name of the vaccination\n"
      ]
    },
    {
      "cell_type": "code",
      "execution_count": null,
      "id": "3f40f598-8f94-4d81-bc28-66659b7136c7",
      "metadata": {
        "id": "3f40f598-8f94-4d81-bc28-66659b7136c7",
        "outputId": "b37871c3-5cea-496b-f93b-b7b460957757"
      },
      "outputs": [
        {
          "name": "stdout",
          "output_type": "stream",
          "text": [
            "<class 'pandas.core.frame.DataFrame'>\n",
            "RangeIndex: 2127213 entries, 0 to 2127212\n",
            "Data columns (total 15 columns):\n",
            " #   Column           Dtype  \n",
            "---  ------           -----  \n",
            " 0   VAERS_ID         int64  \n",
            " 1   STATE            object \n",
            " 2   AGE_YRS          float64\n",
            " 3   SEX              object \n",
            " 4   SYMPTOM_TEXT     object \n",
            " 5   RECOVD           object \n",
            " 6   V_ADMINBY        object \n",
            " 7   FORM_VERS        int64  \n",
            " 8   ORDER            int64  \n",
            " 9   ORDER.1          int64  \n",
            " 10  SYMPTOM1         object \n",
            " 11  SYMPTOMVERSION1  float64\n",
            " 12  VAX_TYPE         object \n",
            " 13  VAX_MANU         object \n",
            " 14  VAX_NAME         object \n",
            "dtypes: float64(2), int64(4), object(9)\n",
            "memory usage: 243.4+ MB\n"
          ]
        }
      ],
      "source": [
        "#------------------------------\n",
        "# step 2.2 : Data Types of the columns\n",
        "#------------------------------\n",
        "cdf.info()"
      ]
    },
    {
      "cell_type": "code",
      "execution_count": null,
      "id": "c66e9c63-ca1a-4bb3-9a57-28137d4e7c33",
      "metadata": {
        "id": "c66e9c63-ca1a-4bb3-9a57-28137d4e7c33",
        "outputId": "88a40911-d426-4378-b6cc-03fdd71ae8b8"
      },
      "outputs": [
        {
          "data": {
            "text/html": [
              "<div>\n",
              "<style scoped>\n",
              "    .dataframe tbody tr th:only-of-type {\n",
              "        vertical-align: middle;\n",
              "    }\n",
              "\n",
              "    .dataframe tbody tr th {\n",
              "        vertical-align: top;\n",
              "    }\n",
              "\n",
              "    .dataframe thead th {\n",
              "        text-align: right;\n",
              "    }\n",
              "</style>\n",
              "<table border=\"1\" class=\"dataframe\">\n",
              "  <thead>\n",
              "    <tr style=\"text-align: right;\">\n",
              "      <th></th>\n",
              "      <th>VAERS_ID</th>\n",
              "      <th>AGE_YRS</th>\n",
              "      <th>FORM_VERS</th>\n",
              "      <th>ORDER</th>\n",
              "      <th>ORDER.1</th>\n",
              "      <th>SYMPTOMVERSION1</th>\n",
              "    </tr>\n",
              "  </thead>\n",
              "  <tbody>\n",
              "    <tr>\n",
              "      <th>count</th>\n",
              "      <td>2.127213e+06</td>\n",
              "      <td>2.127213e+06</td>\n",
              "      <td>2.127213e+06</td>\n",
              "      <td>2.127213e+06</td>\n",
              "      <td>2.127213e+06</td>\n",
              "      <td>2.127213e+06</td>\n",
              "    </tr>\n",
              "    <tr>\n",
              "      <th>mean</th>\n",
              "      <td>1.766222e+06</td>\n",
              "      <td>4.897507e+01</td>\n",
              "      <td>1.997842e+00</td>\n",
              "      <td>1.116961e+00</td>\n",
              "      <td>1.116961e+00</td>\n",
              "      <td>2.444672e+01</td>\n",
              "    </tr>\n",
              "    <tr>\n",
              "      <th>std</th>\n",
              "      <td>6.095242e+05</td>\n",
              "      <td>2.215260e+01</td>\n",
              "      <td>4.640149e-02</td>\n",
              "      <td>4.028517e-01</td>\n",
              "      <td>4.028517e-01</td>\n",
              "      <td>9.706579e-01</td>\n",
              "    </tr>\n",
              "    <tr>\n",
              "      <th>min</th>\n",
              "      <td>1.091280e+05</td>\n",
              "      <td>0.000000e+00</td>\n",
              "      <td>1.000000e+00</td>\n",
              "      <td>1.000000e+00</td>\n",
              "      <td>1.000000e+00</td>\n",
              "      <td>2.210000e+01</td>\n",
              "    </tr>\n",
              "    <tr>\n",
              "      <th>25%</th>\n",
              "      <td>1.216798e+06</td>\n",
              "      <td>3.300000e+01</td>\n",
              "      <td>2.000000e+00</td>\n",
              "      <td>1.000000e+00</td>\n",
              "      <td>1.000000e+00</td>\n",
              "      <td>2.400000e+01</td>\n",
              "    </tr>\n",
              "    <tr>\n",
              "      <th>50%</th>\n",
              "      <td>1.689184e+06</td>\n",
              "      <td>5.200000e+01</td>\n",
              "      <td>2.000000e+00</td>\n",
              "      <td>1.000000e+00</td>\n",
              "      <td>1.000000e+00</td>\n",
              "      <td>2.400000e+01</td>\n",
              "    </tr>\n",
              "    <tr>\n",
              "      <th>75%</th>\n",
              "      <td>2.322967e+06</td>\n",
              "      <td>6.600000e+01</td>\n",
              "      <td>2.000000e+00</td>\n",
              "      <td>1.000000e+00</td>\n",
              "      <td>1.000000e+00</td>\n",
              "      <td>2.500000e+01</td>\n",
              "    </tr>\n",
              "    <tr>\n",
              "      <th>max</th>\n",
              "      <td>2.851140e+06</td>\n",
              "      <td>1.190000e+02</td>\n",
              "      <td>2.000000e+00</td>\n",
              "      <td>1.000000e+01</td>\n",
              "      <td>1.000000e+01</td>\n",
              "      <td>2.800000e+01</td>\n",
              "    </tr>\n",
              "  </tbody>\n",
              "</table>\n",
              "</div>"
            ],
            "text/plain": [
              "           VAERS_ID       AGE_YRS     FORM_VERS         ORDER       ORDER.1  \\\n",
              "count  2.127213e+06  2.127213e+06  2.127213e+06  2.127213e+06  2.127213e+06   \n",
              "mean   1.766222e+06  4.897507e+01  1.997842e+00  1.116961e+00  1.116961e+00   \n",
              "std    6.095242e+05  2.215260e+01  4.640149e-02  4.028517e-01  4.028517e-01   \n",
              "min    1.091280e+05  0.000000e+00  1.000000e+00  1.000000e+00  1.000000e+00   \n",
              "25%    1.216798e+06  3.300000e+01  2.000000e+00  1.000000e+00  1.000000e+00   \n",
              "50%    1.689184e+06  5.200000e+01  2.000000e+00  1.000000e+00  1.000000e+00   \n",
              "75%    2.322967e+06  6.600000e+01  2.000000e+00  1.000000e+00  1.000000e+00   \n",
              "max    2.851140e+06  1.190000e+02  2.000000e+00  1.000000e+01  1.000000e+01   \n",
              "\n",
              "       SYMPTOMVERSION1  \n",
              "count     2.127213e+06  \n",
              "mean      2.444672e+01  \n",
              "std       9.706579e-01  \n",
              "min       2.210000e+01  \n",
              "25%       2.400000e+01  \n",
              "50%       2.400000e+01  \n",
              "75%       2.500000e+01  \n",
              "max       2.800000e+01  "
            ]
          },
          "execution_count": 7,
          "metadata": {},
          "output_type": "execute_result"
        }
      ],
      "source": [
        "#------------------------------\n",
        "# step 2.3 : The stastical  analysis of the data  \n",
        "#------------------------------\n",
        "cdf.describe()"
      ]
    },
    {
      "cell_type": "code",
      "execution_count": null,
      "id": "d66980b6-dc0a-4bd6-906e-3a5d9b3072b0",
      "metadata": {
        "id": "d66980b6-dc0a-4bd6-906e-3a5d9b3072b0",
        "outputId": "8a4080c2-b1a2-490e-ff19-ebc8244d5637"
      },
      "outputs": [
        {
          "data": {
            "text/plain": [
              "VAERS_ID           0\n",
              "STATE              0\n",
              "AGE_YRS            0\n",
              "SEX                0\n",
              "SYMPTOM_TEXT       0\n",
              "RECOVD             0\n",
              "V_ADMINBY          0\n",
              "FORM_VERS          0\n",
              "ORDER              0\n",
              "ORDER.1            0\n",
              "SYMPTOM1           0\n",
              "SYMPTOMVERSION1    0\n",
              "VAX_TYPE           0\n",
              "VAX_MANU           0\n",
              "VAX_NAME           0\n",
              "dtype: int64"
            ]
          },
          "execution_count": 8,
          "metadata": {},
          "output_type": "execute_result"
        }
      ],
      "source": [
        "#------------------------------\n",
        "# step 2.4 : checkin for the null values\n",
        "#------------------------------\n",
        "cdf.isnull().sum()"
      ]
    },
    {
      "cell_type": "markdown",
      "id": "2a169837-64c9-4b6f-a891-8fcd14c6a677",
      "metadata": {
        "id": "2a169837-64c9-4b6f-a891-8fcd14c6a677"
      },
      "source": [
        "## Age bins\n",
        "- creating age bins\n"
      ]
    },
    {
      "cell_type": "code",
      "execution_count": null,
      "id": "65b0cf63-9778-408f-80d6-54dc831788a7",
      "metadata": {
        "id": "65b0cf63-9778-408f-80d6-54dc831788a7"
      },
      "outputs": [],
      "source": [
        "#------------------------------\n",
        "# step 3 : Creating age bins\n",
        "#------------------------------\n",
        "bins = list(range(0, 121, 10))\n",
        "labels = [f'{i}-{i+9}' for i in bins[:-1]]\n",
        "\n",
        "cdf['Age_grp'] = pd.cut(cdf['AGE_YRS'], bins=bins, labels=labels, right=False)"
      ]
    },
    {
      "cell_type": "code",
      "execution_count": 24,
      "id": "e2f4fae9-2675-4c33-81fb-08d1b451e2ac",
      "metadata": {
        "id": "e2f4fae9-2675-4c33-81fb-08d1b451e2ac",
        "outputId": "eeb5ae28-0414-4a2c-ccb9-553d662e5a7c"
      },
      "outputs": [
        {
          "data": {
            "text/plain": [
              "0    70-79\n",
              "1    70-79\n",
              "2    50-59\n",
              "3    60-69\n",
              "4    60-69\n",
              "Name: Age_grp, dtype: category\n",
              "Categories (12, object): ['0-9' < '10-19' < '20-29' < '30-39' ... '80-89' < '90-99' < '100-109' < '110-119']"
            ]
          },
          "execution_count": 24,
          "metadata": {},
          "output_type": "execute_result"
        }
      ],
      "source": [
        "#----------------------------------------\n",
        "# step 3.1 : Checking The Age_grp columns\n",
        "#----------------------------------------\n",
        "cdf['Age_grp'].head()"
      ]
    },
    {
      "cell_type": "markdown",
      "id": "de51cff4",
      "metadata": {},
      "source": [
        "# Step 3.1: Checking The Age_grp Columns\n",
        "This cell checks the newly created age group column (`Age_grp`) to ensure the binning process was successful and to preview the first few entries."
      ]
    },
    {
      "cell_type": "markdown",
      "id": "6f2246e7-2682-4f81-9884-18cc110adacd",
      "metadata": {
        "id": "6f2246e7-2682-4f81-9884-18cc110adacd"
      },
      "source": [
        "# Demographic Insights\n",
        "- Count of the each gender \n",
        "- Gender categories"
      ]
    },
    {
      "cell_type": "code",
      "execution_count": 25,
      "id": "04b227c0-0348-4655-81c0-dc51548cb5ed",
      "metadata": {
        "id": "04b227c0-0348-4655-81c0-dc51548cb5ed"
      },
      "outputs": [
        {
          "data": {
            "text/html": [
              "<div>\n",
              "<style scoped>\n",
              "    .dataframe tbody tr th:only-of-type {\n",
              "        vertical-align: middle;\n",
              "    }\n",
              "\n",
              "    .dataframe tbody tr th {\n",
              "        vertical-align: top;\n",
              "    }\n",
              "\n",
              "    .dataframe thead th {\n",
              "        text-align: right;\n",
              "    }\n",
              "</style>\n",
              "<table border=\"1\" class=\"dataframe\">\n",
              "  <thead>\n",
              "    <tr style=\"text-align: right;\">\n",
              "      <th></th>\n",
              "      <th>SEX</th>\n",
              "      <th>count</th>\n",
              "    </tr>\n",
              "  </thead>\n",
              "  <tbody>\n",
              "    <tr>\n",
              "      <th>0</th>\n",
              "      <td>F</td>\n",
              "      <td>1333443</td>\n",
              "    </tr>\n",
              "    <tr>\n",
              "      <th>1</th>\n",
              "      <td>M</td>\n",
              "      <td>691669</td>\n",
              "    </tr>\n",
              "    <tr>\n",
              "      <th>2</th>\n",
              "      <td>U</td>\n",
              "      <td>102101</td>\n",
              "    </tr>\n",
              "  </tbody>\n",
              "</table>\n",
              "</div>"
            ],
            "text/plain": [
              "  SEX    count\n",
              "0   F  1333443\n",
              "1   M   691669\n",
              "2   U   102101"
            ]
          },
          "execution_count": 25,
          "metadata": {},
          "output_type": "execute_result"
        }
      ],
      "source": [
        "Gender_Distribution = cdf.groupby('SEX').size().reset_index(name='count')\n",
        "Gender_Distribution"
      ]
    },
    {
      "cell_type": "code",
      "execution_count": 13,
      "id": "ea856853-c343-466e-bab7-6fbd10c78709",
      "metadata": {
        "id": "ea856853-c343-466e-bab7-6fbd10c78709",
        "outputId": "265dec10-5ec6-40db-e4d1-6ee2a352c71d"
      },
      "outputs": [
        {
          "ename": "AttributeError",
          "evalue": "module 'matplotlib.pyplot' has no attribute 'pltis'",
          "output_type": "error",
          "traceback": [
            "\u001b[1;31m---------------------------------------------------------------------------\u001b[0m",
            "\u001b[1;31mAttributeError\u001b[0m                            Traceback (most recent call last)",
            "Cell \u001b[1;32mIn[13], line 11\u001b[0m\n\u001b[0;32m      2\u001b[0m plt\u001b[38;5;241m.\u001b[39mpie(\n\u001b[0;32m      3\u001b[0m     x\u001b[38;5;241m=\u001b[39mGender_Distribution[\u001b[38;5;124m'\u001b[39m\u001b[38;5;124mcount\u001b[39m\u001b[38;5;124m'\u001b[39m],\n\u001b[0;32m      4\u001b[0m     labels\u001b[38;5;241m=\u001b[39mGender_Distribution[\u001b[38;5;124m'\u001b[39m\u001b[38;5;124mSEX\u001b[39m\u001b[38;5;124m'\u001b[39m],\n\u001b[1;32m   (...)\u001b[0m\n\u001b[0;32m      8\u001b[0m     colors\u001b[38;5;241m=\u001b[39m[\u001b[38;5;124m'\u001b[39m\u001b[38;5;124m#A3B3FF\u001b[39m\u001b[38;5;124m'\u001b[39m,\u001b[38;5;124m'\u001b[39m\u001b[38;5;124m#F6CFFF\u001b[39m\u001b[38;5;124m'\u001b[39m,\u001b[38;5;124m'\u001b[39m\u001b[38;5;124m#FFCCD3\u001b[39m\u001b[38;5;124m'\u001b[39m],\n\u001b[0;32m      9\u001b[0m     )\n\u001b[0;32m     10\u001b[0m plt\u001b[38;5;241m.\u001b[39mtitle(\u001b[38;5;124m\"\u001b[39m\u001b[38;5;124mGender Distribution\u001b[39m\u001b[38;5;124m\"\u001b[39m)\n\u001b[1;32m---> 11\u001b[0m plt\u001b[38;5;241m.\u001b[39mpltis(\u001b[38;5;124m'\u001b[39m\u001b[38;5;124mequal\u001b[39m\u001b[38;5;124m'\u001b[39m)\n\u001b[0;32m     12\u001b[0m plt\u001b[38;5;241m.\u001b[39mshow()\n",
            "\u001b[1;31mAttributeError\u001b[0m: module 'matplotlib.pyplot' has no attribute 'pltis'"
          ]
        },
        {
          "data": {
            "image/png": "[encoded data removed]",
            "text/plain": [
              "<Figure size 1600x600 with 1 Axes>"
            ]
          },
          "metadata": {},
          "output_type": "display_data"
        }
      ],
      "source": [
        "plt.figure(figsize=(16, 6))\n",
        "plt.pie(\n",
        "    x=Gender_Distribution['count'],\n",
        "    labels=Gender_Distribution['SEX'],\n",
        "    explode=[0,0,0.1],\n",
        "    autopct='%1.1f%%',\n",
        "    startangle=50,\n",
        "    colors=['#A3B3FF','#F6CFFF','#FFCCD3'],\n",
        "    )\n",
        "plt.title(\"Gender Distribution\")\n",
        "plt.pltis('equal')\n",
        "plt.show()"
      ]
    },
    {
      "cell_type": "markdown",
      "id": "3717d0b8",
      "metadata": {},
      "source": [
        "### Gender Distribution Visualization\n",
        "This pie chart visualizes the distribution of genders in the vaccine report dataset. It helps to understand the proportion of male, female, and unknown gender cases, providing insights into demographic patterns."
      ]
    },
    {
      "cell_type": "code",
      "execution_count": 26,
      "id": "3ed59f3d-31bb-4dcf-915e-1abcf35dba11",
      "metadata": {
        "id": "3ed59f3d-31bb-4dcf-915e-1abcf35dba11"
      },
      "outputs": [
        {
          "data": {
            "text/html": [
              "<div>\n",
              "<style scoped>\n",
              "    .dataframe tbody tr th:only-of-type {\n",
              "        vertical-align: middle;\n",
              "    }\n",
              "\n",
              "    .dataframe tbody tr th {\n",
              "        vertical-align: top;\n",
              "    }\n",
              "\n",
              "    .dataframe thead th {\n",
              "        text-align: right;\n",
              "    }\n",
              "</style>\n",
              "<table border=\"1\" class=\"dataframe\">\n",
              "  <thead>\n",
              "    <tr style=\"text-align: right;\">\n",
              "      <th></th>\n",
              "      <th>Age_grp</th>\n",
              "      <th>Count</th>\n",
              "    </tr>\n",
              "  </thead>\n",
              "  <tbody>\n",
              "    <tr>\n",
              "      <th>0</th>\n",
              "      <td>60-69</td>\n",
              "      <td>380407</td>\n",
              "    </tr>\n",
              "    <tr>\n",
              "      <th>1</th>\n",
              "      <td>50-59</td>\n",
              "      <td>346651</td>\n",
              "    </tr>\n",
              "    <tr>\n",
              "      <th>2</th>\n",
              "      <td>40-49</td>\n",
              "      <td>286098</td>\n",
              "    </tr>\n",
              "    <tr>\n",
              "      <th>3</th>\n",
              "      <td>70-79</td>\n",
              "      <td>277772</td>\n",
              "    </tr>\n",
              "    <tr>\n",
              "      <th>4</th>\n",
              "      <td>30-39</td>\n",
              "      <td>273792</td>\n",
              "    </tr>\n",
              "    <tr>\n",
              "      <th>5</th>\n",
              "      <td>20-29</td>\n",
              "      <td>169722</td>\n",
              "    </tr>\n",
              "    <tr>\n",
              "      <th>6</th>\n",
              "      <td>10-19</td>\n",
              "      <td>145015</td>\n",
              "    </tr>\n",
              "    <tr>\n",
              "      <th>7</th>\n",
              "      <td>0-9</td>\n",
              "      <td>116186</td>\n",
              "    </tr>\n",
              "    <tr>\n",
              "      <th>8</th>\n",
              "      <td>80-89</td>\n",
              "      <td>106946</td>\n",
              "    </tr>\n",
              "    <tr>\n",
              "      <th>9</th>\n",
              "      <td>90-99</td>\n",
              "      <td>23837</td>\n",
              "    </tr>\n",
              "    <tr>\n",
              "      <th>10</th>\n",
              "      <td>100-109</td>\n",
              "      <td>763</td>\n",
              "    </tr>\n",
              "    <tr>\n",
              "      <th>11</th>\n",
              "      <td>110-119</td>\n",
              "      <td>24</td>\n",
              "    </tr>\n",
              "  </tbody>\n",
              "</table>\n",
              "</div>"
            ],
            "text/plain": [
              "    Age_grp   Count\n",
              "0     60-69  380407\n",
              "1     50-59  346651\n",
              "2     40-49  286098\n",
              "3     70-79  277772\n",
              "4     30-39  273792\n",
              "5     20-29  169722\n",
              "6     10-19  145015\n",
              "7       0-9  116186\n",
              "8     80-89  106946\n",
              "9     90-99   23837\n",
              "10  100-109     763\n",
              "11  110-119      24"
            ]
          },
          "execution_count": 26,
          "metadata": {},
          "output_type": "execute_result"
        }
      ],
      "source": [
        "Age_Distribution = cdf['Age_grp'].value_counts().rename('Count').reset_index()\n",
        "Age_Distribution"
      ]
    },
    {
      "cell_type": "code",
      "execution_count": 16,
      "id": "3749f4d1-aacc-4812-9315-1a0899134e15",
      "metadata": {
        "id": "3749f4d1-aacc-4812-9315-1a0899134e15",
        "outputId": "bfae9da0-5f97-4e48-dd70-818d2d77b38c"
      },
      "outputs": [
        {
          "data": {
            "image/png": "[encoded data removed]",
            "text/plain": [
              "<Figure size 1200x400 with 1 Axes>"
            ]
          },
          "metadata": {},
          "output_type": "display_data"
        }
      ],
      "source": [
        "plt.figure(figsize=(12,4))\n",
        "sns.histplot(x=Age_Distribution['Age_grp'],y=Age_Distribution['Count'])\n",
        "plt.show()"
      ]
    },
    {
      "cell_type": "markdown",
      "id": "42fe240a",
      "metadata": {},
      "source": [
        "### Age Distribution Histogram\n",
        "This histogram shows the distribution of vaccine reports across different age groups. It helps identify which age ranges have the highest number of reports and highlights any age-related trends in the data."
      ]
    },
    {
      "cell_type": "code",
      "execution_count": 17,
      "id": "84e69043-65d8-4c89-aebb-07844fcb9e9e",
      "metadata": {
        "id": "84e69043-65d8-4c89-aebb-07844fcb9e9e",
        "outputId": "0beedf39-a1ec-4121-ace4-e76af2e86297"
      },
      "outputs": [
        {
          "name": "stderr",
          "output_type": "stream",
          "text": [
            "C:\\Users\\NAGENDRA BABU\\AppData\\Local\\Temp\\ipykernel_6468\\2275384151.py:1: FutureWarning: The default value of observed=False is deprecated and will change to observed=True in a future version of pandas. Specify observed=False to silence this warning and retain the current behavior\n",
            "  Age_Gender = cdf.pivot_table(index='Age_grp', columns='SEX', values='VAERS_ID', aggfunc='count')\n"
          ]
        }
      ],
      "source": [
        "Age_Gender = cdf.pivot_table(index='Age_grp', columns='SEX', values='VAERS_ID', aggfunc='count')"
      ]
    },
    {
      "cell_type": "code",
      "execution_count": 18,
      "id": "ad84a739-d9ec-47de-aa2d-79dcd4c7aeac",
      "metadata": {
        "id": "ad84a739-d9ec-47de-aa2d-79dcd4c7aeac",
        "outputId": "6f52f3c5-21d0-446e-d44f-3b9f664121ac"
      },
      "outputs": [
        {
          "data": {
            "image/png": "[encoded data removed]",
            "text/plain": [
              "<Figure size 800x600 with 2 Axes>"
            ]
          },
          "metadata": {},
          "output_type": "display_data"
        }
      ],
      "source": [
        "plt.figure(figsize=(8, 6))\n",
        "sns.heatmap(Age_Gender, annot=True,fmt='d', cmap='Greens')\n",
        "plt.title('Heatmap of Reports by Sex and Age Group')\n",
        "plt.xlabel('Sex')\n",
        "plt.ylabel('Age Group')\n",
        "plt.show()"
      ]
    },
    {
      "cell_type": "markdown",
      "id": "a8819da4",
      "metadata": {},
      "source": [
        "### Age and Gender Heatmap\n",
        "This heatmap visualizes the relationship between age groups and gender in the vaccine report data. It shows the count of reports for each combination, helping to spot patterns and differences across demographics."
      ]
    },
    {
      "cell_type": "markdown",
      "id": "1ef11cbc-9de5-495c-80d6-95490e45a555",
      "metadata": {
        "id": "1ef11cbc-9de5-495c-80d6-95490e45a555"
      },
      "source": [
        "# Geographical Insights"
      ]
    },
    {
      "cell_type": "code",
      "execution_count": 19,
      "id": "61e71f76-761f-48c4-9746-a138d71677f9",
      "metadata": {
        "id": "61e71f76-761f-48c4-9746-a138d71677f9"
      },
      "outputs": [],
      "source": [
        "Top_States_Gender = (\n",
        "    cdf.groupby('STATE')\n",
        "       .size()\n",
        "       .reset_index(name='count').sort_values(by='count',ascending=False)\n",
        ")\n"
      ]
    },
    {
      "cell_type": "code",
      "execution_count": 27,
      "id": "4627e054-e7b1-42ee-bacf-f2b33cbaddf1",
      "metadata": {
        "id": "4627e054-e7b1-42ee-bacf-f2b33cbaddf1"
      },
      "outputs": [
        {
          "data": {
            "text/html": [
              "<div>\n",
              "<style scoped>\n",
              "    .dataframe tbody tr th:only-of-type {\n",
              "        vertical-align: middle;\n",
              "    }\n",
              "\n",
              "    .dataframe tbody tr th {\n",
              "        vertical-align: top;\n",
              "    }\n",
              "\n",
              "    .dataframe thead th {\n",
              "        text-align: right;\n",
              "    }\n",
              "</style>\n",
              "<table border=\"1\" class=\"dataframe\">\n",
              "  <thead>\n",
              "    <tr style=\"text-align: right;\">\n",
              "      <th></th>\n",
              "      <th>STATE</th>\n",
              "      <th>count</th>\n",
              "    </tr>\n",
              "  </thead>\n",
              "  <tbody>\n",
              "    <tr>\n",
              "      <th>5</th>\n",
              "      <td>CA</td>\n",
              "      <td>198050</td>\n",
              "    </tr>\n",
              "    <tr>\n",
              "      <th>50</th>\n",
              "      <td>TX</td>\n",
              "      <td>111999</td>\n",
              "    </tr>\n",
              "    <tr>\n",
              "      <th>10</th>\n",
              "      <td>FL</td>\n",
              "      <td>110338</td>\n",
              "    </tr>\n",
              "    <tr>\n",
              "      <th>39</th>\n",
              "      <td>NY</td>\n",
              "      <td>105207</td>\n",
              "    </tr>\n",
              "    <tr>\n",
              "      <th>26</th>\n",
              "      <td>MI</td>\n",
              "      <td>103717</td>\n",
              "    </tr>\n",
              "    <tr>\n",
              "      <th>43</th>\n",
              "      <td>PA</td>\n",
              "      <td>74459</td>\n",
              "    </tr>\n",
              "    <tr>\n",
              "      <th>17</th>\n",
              "      <td>IL</td>\n",
              "      <td>62710</td>\n",
              "    </tr>\n",
              "    <tr>\n",
              "      <th>40</th>\n",
              "      <td>OH</td>\n",
              "      <td>61388</td>\n",
              "    </tr>\n",
              "    <tr>\n",
              "      <th>36</th>\n",
              "      <td>NJ</td>\n",
              "      <td>54742</td>\n",
              "    </tr>\n",
              "    <tr>\n",
              "      <th>56</th>\n",
              "      <td>WA</td>\n",
              "      <td>53521</td>\n",
              "    </tr>\n",
              "  </tbody>\n",
              "</table>\n",
              "</div>"
            ],
            "text/plain": [
              "   STATE   count\n",
              "5     CA  198050\n",
              "50    TX  111999\n",
              "10    FL  110338\n",
              "39    NY  105207\n",
              "26    MI  103717\n",
              "43    PA   74459\n",
              "17    IL   62710\n",
              "40    OH   61388\n",
              "36    NJ   54742\n",
              "56    WA   53521"
            ]
          },
          "execution_count": 27,
          "metadata": {},
          "output_type": "execute_result"
        }
      ],
      "source": [
        "Top_10_States_Gender=Top_States_Gender[1:11]\n",
        "Top_10_States_Gender"
      ]
    },
    {
      "cell_type": "code",
      "execution_count": 22,
      "id": "f5070e79-2652-4877-bbec-a22e8fbc27fd",
      "metadata": {
        "id": "f5070e79-2652-4877-bbec-a22e8fbc27fd",
        "outputId": "8cc80fa7-09a6-413d-b311-8b21ade883bf"
      },
      "outputs": [
        {
          "data": {
            "image/png": "[encoded data removed]",
            "text/plain": [
              "<Figure size 1200x600 with 1 Axes>"
            ]
          },
          "metadata": {},
          "output_type": "display_data"
        }
      ],
      "source": [
        "plt.figure(figsize=(12, 6))\n",
        "colors = sns.color_palette('YlOrBr', n_colors=len(Top_10_States_Gender))\n",
        "\n",
        "\n",
        "barplot = sns.barplot(\n",
        "    x='STATE',\n",
        "    y='count',\n",
        "    data=Top_10_States_Gender,\n",
        "    palette=colors,\n",
        "    hue='STATE')\n",
        "\n",
        "for i, bar in enumerate(barplot.patches):\n",
        "    barplot.annotate(\n",
        "        format(bar.get_height(), ','),\n",
        "        (bar.get_x() + bar.get_width() / 2, bar.get_height()),\n",
        "        ha='center', va='bottom',\n",
        "        fontsize=11,\n",
        "        color='black',\n",
        "        xytext=(0, 5),\n",
        "        textcoords='offset points')\n",
        "\n",
        "plt.title('Number of reports per state', fontsize=16, fontweight='bold')\n",
        "plt.xlabel('State', fontsize=14)\n",
        "\n",
        "plt.xticks(fontsize=10,fontweight='bold')\n",
        "plt.yticks(fontsize=10,fontweight='bold')\n",
        "\n",
        "barplot.get_legend().remove() if barplot.get_legend() else None\n",
        "\n",
        "plt.tight_layout()\n",
        "\n",
        "plt.show()\n"
      ]
    },
    {
      "cell_type": "markdown",
      "id": "58da8142",
      "metadata": {},
      "source": [
        "### State-wise Report Bar Plot\n",
        "This bar plot displays the number of vaccine reports for the top states. It helps identify which states have the highest reporting rates and may indicate regional trends or differences in vaccine experiences."
      ]
    },
    {
      "cell_type": "code",
      "execution_count": 23,
      "id": "8187c53c-7f39-4a66-9688-215a57234212",
      "metadata": {
        "id": "8187c53c-7f39-4a66-9688-215a57234212",
        "outputId": "bf86c5b0-9b3d-4850-e687-cc65bf4cb867"
      },
      "outputs": [
        {
          "data": {
            "application/vnd.plotly.v1+json": {
              "config": {
                "plotlyServerURL": "https://plot.ly"
              },
              "data": [
                {
                  "coloraxis": "coloraxis",
                  "geo": "geo",
                  "hovertemplate": "<b>%{hovertext}</b><br><br>STATE=%{location}<br>count=%{z}<extra></extra>",
                  "hovertext": [
                    "CA",
                    "TX",
                    "FL",
                    "NY",
                    "MI",
                    "PA",
                    "IL",
                    "OH",
                    "NJ",
                    "WA",
                    "IN",
                    "NC",
                    "MA",
                    "VA",
                    "MN",
                    "CO",
                    "GA",
                    "AZ",
                    "MD",
                    "WI",
                    "KY",
                    "MO",
                    "TN",
                    "OR",
                    "CT",
                    "SC",
                    "OK",
                    "IA",
                    "AL",
                    "KS",
                    "LA",
                    "NV",
                    "UT",
                    "NM",
                    "AR",
                    "ME",
                    "PR",
                    "NH",
                    "ID",
                    "NE",
                    "HI",
                    "WV",
                    "MS",
                    "MT",
                    "RI",
                    "AK",
                    "DC",
                    "DE",
                    "SD",
                    "VT",
                    "ND",
                    "WY",
                    "GU",
                    "AS",
                    "VI",
                    "MP",
                    "MH",
                    "FM",
                    "PW"
                  ],
                  "locationmode": "USA-states",
                  "locations": [
                    "CA",
                    "TX",
                    "FL",
                    "NY",
                    "MI",
                    "PA",
                    "IL",
                    "OH",
                    "NJ",
                    "WA",
                    "IN",
                    "NC",
                    "MA",
                    "VA",
                    "MN",
                    "CO",
                    "GA",
                    "AZ",
                    "MD",
                    "WI",
                    "KY",
                    "MO",
                    "TN",
                    "OR",
                    "CT",
                    "SC",
                    "OK",
                    "IA",
                    "AL",
                    "KS",
                    "LA",
                    "NV",
                    "UT",
                    "NM",
                    "AR",
                    "ME",
                    "PR",
                    "NH",
                    "ID",
                    "NE",
                    "HI",
                    "WV",
                    "MS",
                    "MT",
                    "RI",
                    "AK",
                    "DC",
                    "DE",
                    "SD",
                    "VT",
                    "ND",
                    "WY",
                    "GU",
                    "AS",
                    "VI",
                    "MP",
                    "MH",
                    "FM",
                    "PW"
                  ],
                  "name": "",
                  "type": "choropleth",
                  "z": [
                    198050,
                    111999,
                    110338,
                    105207,
                    103717,
                    74459,
                    62710,
                    61388,
                    54742,
                    53521,
                    53022,
                    51370,
                    49143,
                    48846,
                    48347,
                    45955,
                    44808,
                    42156,
                    38981,
                    37709,
                    32913,
                    32890,
                    32803,
                    28698,
                    24758,
                    20390,
                    17092,
                    17018,
                    16821,
                    15528,
                    15302,
                    14876,
                    14332,
                    13784,
                    13308,
                    11493,
                    11071,
                    10519,
                    10029,
                    9977,
                    9161,
                    8447,
                    8276,
                    7367,
                    6680,
                    5941,
                    5695,
                    5694,
                    5512,
                    5222,
                    4916,
                    2599,
                    470,
                    267,
                    202,
                    196,
                    18,
                    17,
                    9
                  ]
                }
              ],
              "layout": {
                "coloraxis": {
                  "colorbar": {
                    "title": {
                      "text": "count"
                    }
                  },
                  "colorscale": [
                    [
                      0,
                      "rgb(255,245,240)"
                    ],
                    [
                      0.125,
                      "rgb(254,224,210)"
                    ],
                    [
                      0.25,
                      "rgb(252,187,161)"
                    ],
                    [
                      0.375,
                      "rgb(252,146,114)"
                    ],
                    [
                      0.5,
                      "rgb(251,106,74)"
                    ],
                    [
                      0.625,
                      "rgb(239,59,44)"
                    ],
                    [
                      0.75,
                      "rgb(203,24,29)"
                    ],
                    [
                      0.875,
                      "rgb(165,15,21)"
                    ],
                    [
                      1,
                      "rgb(103,0,13)"
                    ]
                  ]
                },
                "geo": {
                  "center": {},
                  "coastlinecolor": "Black",
                  "domain": {
                    "x": [
                      0,
                      1
                    ],
                    "y": [
                      0,
                      1
                    ]
                  },
                  "landcolor": "white",
                  "showcoastlines": true,
                  "showland": true
                },
                "legend": {
                  "tracegroupgap": 0
                },
                "margin": {
                  "b": 0,
                  "l": 0,
                  "r": 1,
                  "t": 10
                },
                "template": {
                  "data": {
                    "bar": [
                      {
                        "error_x": {
                          "color": "#2a3f5f"
                        },
                        "error_y": {
                          "color": "#2a3f5f"
                        },
                        "marker": {
                          "line": {
                            "color": "#E5ECF6",
                            "width": 0.5
                          },
                          "pattern": {
                            "fillmode": "overlay",
                            "size": 10,
                            "solidity": 0.2
                          }
                        },
                        "type": "bar"
                      }
                    ],
                    "barpolar": [
                      {
                        "marker": {
                          "line": {
                            "color": "#E5ECF6",
                            "width": 0.5
                          },
                          "pattern": {
                            "fillmode": "overlay",
                            "size": 10,
                            "solidity": 0.2
                          }
                        },
                        "type": "barpolar"
                      }
                    ],
                    "carpet": [
                      {
                        "aaxis": {
                          "endlinecolor": "#2a3f5f",
                          "gridcolor": "white",
                          "linecolor": "white",
                          "minorgridcolor": "white",
                          "startlinecolor": "#2a3f5f"
                        },
                        "baxis": {
                          "endlinecolor": "#2a3f5f",
                          "gridcolor": "white",
                          "linecolor": "white",
                          "minorgridcolor": "white",
                          "startlinecolor": "#2a3f5f"
                        },
                        "type": "carpet"
                      }
                    ],
                    "choropleth": [
                      {
                        "colorbar": {
                          "outlinewidth": 0,
                          "ticks": ""
                        },
                        "type": "choropleth"
                      }
                    ],
                    "contour": [
                      {
                        "colorbar": {
                          "outlinewidth": 0,
                          "ticks": ""
                        },
                        "colorscale": [
                          [
                            0,
                            "#0d0887"
                          ],
                          [
                            0.1111111111111111,
                            "#46039f"
                          ],
                          [
                            0.2222222222222222,
                            "#7201a8"
                          ],
                          [
                            0.3333333333333333,
                            "#9c179e"
                          ],
                          [
                            0.4444444444444444,
                            "#bd3786"
                          ],
                          [
                            0.5555555555555556,
                            "#d8576b"
                          ],
                          [
                            0.6666666666666666,
                            "#ed7953"
                          ],
                          [
                            0.7777777777777778,
                            "#fb9f3a"
                          ],
                          [
                            0.8888888888888888,
                            "#fdca26"
                          ],
                          [
                            1,
                            "#f0f921"
                          ]
                        ],
                        "type": "contour"
                      }
                    ],
                    "contourcarpet": [
                      {
                        "colorbar": {
                          "outlinewidth": 0,
                          "ticks": ""
                        },
                        "type": "contourcarpet"
                      }
                    ],
                    "heatmap": [
                      {
                        "colorbar": {
                          "outlinewidth": 0,
                          "ticks": ""
                        },
                        "colorscale": [
                          [
                            0,
                            "#0d0887"
                          ],
                          [
                            0.1111111111111111,
                            "#46039f"
                          ],
                          [
                            0.2222222222222222,
                            "#7201a8"
                          ],
                          [
                            0.3333333333333333,
                            "#9c179e"
                          ],
                          [
                            0.4444444444444444,
                            "#bd3786"
                          ],
                          [
                            0.5555555555555556,
                            "#d8576b"
                          ],
                          [
                            0.6666666666666666,
                            "#ed7953"
                          ],
                          [
                            0.7777777777777778,
                            "#fb9f3a"
                          ],
                          [
                            0.8888888888888888,
                            "#fdca26"
                          ],
                          [
                            1,
                            "#f0f921"
                          ]
                        ],
                        "type": "heatmap"
                      }
                    ],
                    "heatmapgl": [
                      {
                        "colorbar": {
                          "outlinewidth": 0,
                          "ticks": ""
                        },
                        "colorscale": [
                          [
                            0,
                            "#0d0887"
                          ],
                          [
                            0.1111111111111111,
                            "#46039f"
                          ],
                          [
                            0.2222222222222222,
                            "#7201a8"
                          ],
                          [
                            0.3333333333333333,
                            "#9c179e"
                          ],
                          [
                            0.4444444444444444,
                            "#bd3786"
                          ],
                          [
                            0.5555555555555556,
                            "#d8576b"
                          ],
                          [
                            0.6666666666666666,
                            "#ed7953"
                          ],
                          [
                            0.7777777777777778,
                            "#fb9f3a"
                          ],
                          [
                            0.8888888888888888,
                            "#fdca26"
                          ],
                          [
                            1,
                            "#f0f921"
                          ]
                        ],
                        "type": "heatmapgl"
                      }
                    ],
                    "histogram": [
                      {
                        "marker": {
                          "pattern": {
                            "fillmode": "overlay",
                            "size": 10,
                            "solidity": 0.2
                          }
                        },
                        "type": "histogram"
                      }
                    ],
                    "histogram2d": [
                      {
                        "colorbar": {
                          "outlinewidth": 0,
                          "ticks": ""
                        },
                        "colorscale": [
                          [
                            0,
                            "#0d0887"
                          ],
                          [
                            0.1111111111111111,
                            "#46039f"
                          ],
                          [
                            0.2222222222222222,
                            "#7201a8"
                          ],
                          [
                            0.3333333333333333,
                            "#9c179e"
                          ],
                          [
                            0.4444444444444444,
                            "#bd3786"
                          ],
                          [
                            0.5555555555555556,
                            "#d8576b"
                          ],
                          [
                            0.6666666666666666,
                            "#ed7953"
                          ],
                          [
                            0.7777777777777778,
                            "#fb9f3a"
                          ],
                          [
                            0.8888888888888888,
                            "#fdca26"
                          ],
                          [
                            1,
                            "#f0f921"
                          ]
                        ],
                        "type": "histogram2d"
                      }
                    ],
                    "histogram2dcontour": [
                      {
                        "colorbar": {
                          "outlinewidth": 0,
                          "ticks": ""
                        },
                        "colorscale": [
                          [
                            0,
                            "#0d0887"
                          ],
                          [
                            0.1111111111111111,
                            "#46039f"
                          ],
                          [
                            0.2222222222222222,
                            "#7201a8"
                          ],
                          [
                            0.3333333333333333,
                            "#9c179e"
                          ],
                          [
                            0.4444444444444444,
                            "#bd3786"
                          ],
                          [
                            0.5555555555555556,
                            "#d8576b"
                          ],
                          [
                            0.6666666666666666,
                            "#ed7953"
                          ],
                          [
                            0.7777777777777778,
                            "#fb9f3a"
                          ],
                          [
                            0.8888888888888888,
                            "#fdca26"
                          ],
                          [
                            1,
                            "#f0f921"
                          ]
                        ],
                        "type": "histogram2dcontour"
                      }
                    ],
                    "mesh3d": [
                      {
                        "colorbar": {
                          "outlinewidth": 0,
                          "ticks": ""
                        },
                        "type": "mesh3d"
                      }
                    ],
                    "parcoords": [
                      {
                        "line": {
                          "colorbar": {
                            "outlinewidth": 0,
                            "ticks": ""
                          }
                        },
                        "type": "parcoords"
                      }
                    ],
                    "pie": [
                      {
                        "automargin": true,
                        "type": "pie"
                      }
                    ],
                    "scatter": [
                      {
                        "fillpattern": {
                          "fillmode": "overlay",
                          "size": 10,
                          "solidity": 0.2
                        },
                        "type": "scatter"
                      }
                    ],
                    "scatter3d": [
                      {
                        "line": {
                          "colorbar": {
                            "outlinewidth": 0,
                            "ticks": ""
                          }
                        },
                        "marker": {
                          "colorbar": {
                            "outlinewidth": 0,
                            "ticks": ""
                          }
                        },
                        "type": "scatter3d"
                      }
                    ],
                    "scattercarpet": [
                      {
                        "marker": {
                          "colorbar": {
                            "outlinewidth": 0,
                            "ticks": ""
                          }
                        },
                        "type": "scattercarpet"
                      }
                    ],
                    "scattergeo": [
                      {
                        "marker": {
                          "colorbar": {
                            "outlinewidth": 0,
                            "ticks": ""
                          }
                        },
                        "type": "scattergeo"
                      }
                    ],
                    "scattergl": [
                      {
                        "marker": {
                          "colorbar": {
                            "outlinewidth": 0,
                            "ticks": ""
                          }
                        },
                        "type": "scattergl"
                      }
                    ],
                    "scattermapbox": [
                      {
                        "marker": {
                          "colorbar": {
                            "outlinewidth": 0,
                            "ticks": ""
                          }
                        },
                        "type": "scattermapbox"
                      }
                    ],
                    "scatterpolar": [
                      {
                        "marker": {
                          "colorbar": {
                            "outlinewidth": 0,
                            "ticks": ""
                          }
                        },
                        "type": "scatterpolar"
                      }
                    ],
                    "scatterpolargl": [
                      {
                        "marker": {
                          "colorbar": {
                            "outlinewidth": 0,
                            "ticks": ""
                          }
                        },
                        "type": "scatterpolargl"
                      }
                    ],
                    "scatterternary": [
                      {
                        "marker": {
                          "colorbar": {
                            "outlinewidth": 0,
                            "ticks": ""
                          }
                        },
                        "type": "scatterternary"
                      }
                    ],
                    "surface": [
                      {
                        "colorbar": {
                          "outlinewidth": 0,
                          "ticks": ""
                        },
                        "colorscale": [
                          [
                            0,
                            "#0d0887"
                          ],
                          [
                            0.1111111111111111,
                            "#46039f"
                          ],
                          [
                            0.2222222222222222,
                            "#7201a8"
                          ],
                          [
                            0.3333333333333333,
                            "#9c179e"
                          ],
                          [
                            0.4444444444444444,
                            "#bd3786"
                          ],
                          [
                            0.5555555555555556,
                            "#d8576b"
                          ],
                          [
                            0.6666666666666666,
                            "#ed7953"
                          ],
                          [
                            0.7777777777777778,
                            "#fb9f3a"
                          ],
                          [
                            0.8888888888888888,
                            "#fdca26"
                          ],
                          [
                            1,
                            "#f0f921"
                          ]
                        ],
                        "type": "surface"
                      }
                    ],
                    "table": [
                      {
                        "cells": {
                          "fill": {
                            "color": "#EBF0F8"
                          },
                          "line": {
                            "color": "white"
                          }
                        },
                        "header": {
                          "fill": {
                            "color": "#C8D4E3"
                          },
                          "line": {
                            "color": "white"
                          }
                        },
                        "type": "table"
                      }
                    ]
                  },
                  "layout": {
                    "annotationdefaults": {
                      "arrowcolor": "#2a3f5f",
                      "arrowhead": 0,
                      "arrowwidth": 1
                    },
                    "autotypenumbers": "strict",
                    "coloraxis": {
                      "colorbar": {
                        "outlinewidth": 0,
                        "ticks": ""
                      }
                    },
                    "colorscale": {
                      "diverging": [
                        [
                          0,
                          "#8e0152"
                        ],
                        [
                          0.1,
                          "#c51b7d"
                        ],
                        [
                          0.2,
                          "#de77ae"
                        ],
                        [
                          0.3,
                          "#f1b6da"
                        ],
                        [
                          0.4,
                          "#fde0ef"
                        ],
                        [
                          0.5,
                          "#f7f7f7"
                        ],
                        [
                          0.6,
                          "#e6f5d0"
                        ],
                        [
                          0.7,
                          "#b8e186"
                        ],
                        [
                          0.8,
                          "#7fbc41"
                        ],
                        [
                          0.9,
                          "#4d9221"
                        ],
                        [
                          1,
                          "#276419"
                        ]
                      ],
                      "sequential": [
                        [
                          0,
                          "#0d0887"
                        ],
                        [
                          0.1111111111111111,
                          "#46039f"
                        ],
                        [
                          0.2222222222222222,
                          "#7201a8"
                        ],
                        [
                          0.3333333333333333,
                          "#9c179e"
                        ],
                        [
                          0.4444444444444444,
                          "#bd3786"
                        ],
                        [
                          0.5555555555555556,
                          "#d8576b"
                        ],
                        [
                          0.6666666666666666,
                          "#ed7953"
                        ],
                        [
                          0.7777777777777778,
                          "#fb9f3a"
                        ],
                        [
                          0.8888888888888888,
                          "#fdca26"
                        ],
                        [
                          1,
                          "#f0f921"
                        ]
                      ],
                      "sequentialminus": [
                        [
                          0,
                          "#0d0887"
                        ],
                        [
                          0.1111111111111111,
                          "#46039f"
                        ],
                        [
                          0.2222222222222222,
                          "#7201a8"
                        ],
                        [
                          0.3333333333333333,
                          "#9c179e"
                        ],
                        [
                          0.4444444444444444,
                          "#bd3786"
                        ],
                        [
                          0.5555555555555556,
                          "#d8576b"
                        ],
                        [
                          0.6666666666666666,
                          "#ed7953"
                        ],
                        [
                          0.7777777777777778,
                          "#fb9f3a"
                        ],
                        [
                          0.8888888888888888,
                          "#fdca26"
                        ],
                        [
                          1,
                          "#f0f921"
                        ]
                      ]
                    },
                    "colorway": [
                      "#636efa",
                      "#EF553B",
                      "#00cc96",
                      "#ab63fa",
                      "#FFA15A",
                      "#19d3f3",
                      "#FF6692",
                      "#B6E880",
                      "#FF97FF",
                      "#FECB52"
                    ],
                    "font": {
                      "color": "#2a3f5f"
                    },
                    "geo": {
                      "bgcolor": "white",
                      "lakecolor": "white",
                      "landcolor": "#E5ECF6",
                      "showlakes": true,
                      "showland": true,
                      "subunitcolor": "white"
                    },
                    "hoverlabel": {
                      "align": "left"
                    },
                    "hovermode": "closest",
                    "mapbox": {
                      "style": "light"
                    },
                    "paper_bgcolor": "white",
                    "plot_bgcolor": "#E5ECF6",
                    "polar": {
                      "angularaxis": {
                        "gridcolor": "white",
                        "linecolor": "white",
                        "ticks": ""
                      },
                      "bgcolor": "#E5ECF6",
                      "radialaxis": {
                        "gridcolor": "white",
                        "linecolor": "white",
                        "ticks": ""
                      }
                    },
                    "scene": {
                      "xaxis": {
                        "backgroundcolor": "#E5ECF6",
                        "gridcolor": "white",
                        "gridwidth": 2,
                        "linecolor": "white",
                        "showbackground": true,
                        "ticks": "",
                        "zerolinecolor": "white"
                      },
                      "yaxis": {
                        "backgroundcolor": "#E5ECF6",
                        "gridcolor": "white",
                        "gridwidth": 2,
                        "linecolor": "white",
                        "showbackground": true,
                        "ticks": "",
                        "zerolinecolor": "white"
                      },
                      "zaxis": {
                        "backgroundcolor": "#E5ECF6",
                        "gridcolor": "white",
                        "gridwidth": 2,
                        "linecolor": "white",
                        "showbackground": true,
                        "ticks": "",
                        "zerolinecolor": "white"
                      }
                    },
                    "shapedefaults": {
                      "line": {
                        "color": "#2a3f5f"
                      }
                    },
                    "ternary": {
                      "aaxis": {
                        "gridcolor": "white",
                        "linecolor": "white",
                        "ticks": ""
                      },
                      "baxis": {
                        "gridcolor": "white",
                        "linecolor": "white",
                        "ticks": ""
                      },
                      "bgcolor": "#E5ECF6",
                      "caxis": {
                        "gridcolor": "white",
                        "linecolor": "white",
                        "ticks": ""
                      }
                    },
                    "title": {
                      "x": 0.05
                    },
                    "xaxis": {
                      "automargin": true,
                      "gridcolor": "white",
                      "linecolor": "white",
                      "ticks": "",
                      "title": {
                        "standoff": 15
                      },
                      "zerolinecolor": "white",
                      "zerolinewidth": 2
                    },
                    "yaxis": {
                      "automargin": true,
                      "gridcolor": "white",
                      "linecolor": "white",
                      "ticks": "",
                      "title": {
                        "standoff": 15
                      },
                      "zerolinecolor": "white",
                      "zerolinewidth": 2
                    }
                  }
                },
                "title": {
                  "text": "Choropleth Map of Vaccine Reports by State"
                }
              }
            }
          },
          "metadata": {},
          "output_type": "display_data"
        }
      ],
      "source": [
        "fig = px.choropleth(\n",
        "    Top_States_Gender[1:],\n",
        "    locations='STATE',\n",
        "    locationmode=\"USA-states\",\n",
        "    color='count',\n",
        "    hover_name='STATE',\n",
        "    color_continuous_scale=\"Reds\",\n",
        "    labels={'COUNT': 'Report Count'},\n",
        "    title=\"Choropleth Map of Vaccine Reports by State\"\n",
        ")\n",
        "\n",
        "fig.update_geos(showcoastlines=True, coastlinecolor=\"Black\", showland=True, landcolor=\"white\")\n",
        "fig.update_layout(margin={\"r\":1,\"t\":10,\"l\":0,\"b\":0})\n",
        "\n",
        "fig.show()"
      ]
    },
    {
      "cell_type": "markdown",
      "id": "9a8bbd0b",
      "metadata": {},
      "source": [
        "### Choropleth Map of Vaccine Reports by State\n",
        "This map visualizes the geographic distribution of vaccine reports across the USA. It uses color intensity to show the number of reports per state, making it easy to spot areas with higher or lower reporting rates."
      ]
    },
    {
      "cell_type": "markdown",
      "id": "7af33801-34c9-45aa-ac6f-c4c297265c56",
      "metadata": {
        "id": "7af33801-34c9-45aa-ac6f-c4c297265c56"
      },
      "source": [
        "----"
      ]
    },
    {
      "cell_type": "markdown",
      "id": "7da6b51c-c534-4e5b-aaec-3419be9cd2e0",
      "metadata": {
        "id": "7da6b51c-c534-4e5b-aaec-3419be9cd2e0"
      },
      "source": [
        "# Vaccine Type Analysis"
      ]
    },
    {
      "cell_type": "code",
      "execution_count": null,
      "id": "7256628b-ff08-44f2-9c00-03ddec2aa257",
      "metadata": {
        "id": "7256628b-ff08-44f2-9c00-03ddec2aa257"
      },
      "outputs": [],
      "source": [
        "Vaccine_Distribution = cdf.groupby('VAX_TYPE').size().rename('Count').reset_index()"
      ]
    },
    {
      "cell_type": "markdown",
      "id": "2a1748a8",
      "metadata": {},
      "source": [
        "### Vaccine Distribution Analysis\n",
        "This step groups the data by vaccine type to analyze how many reports are associated with each vaccine. It helps identify which vaccines have the most reported events."
      ]
    },
    {
      "cell_type": "code",
      "execution_count": null,
      "id": "c0573fb1-794f-4fb0-ae61-6cdeeb63cfb3",
      "metadata": {
        "id": "c0573fb1-794f-4fb0-ae61-6cdeeb63cfb3"
      },
      "outputs": [],
      "source": [
        "Top_10_Vaccine_Used = Vaccine_Distribution.sort_values(by='Count',ascending=False).head(20)"
      ]
    },
    {
      "cell_type": "markdown",
      "id": "c502e573",
      "metadata": {},
      "source": [
        "### Top Vaccines Used\n",
        "This step sorts the vaccine distribution data to find the top vaccines with the highest number of reports. It helps focus the analysis on the most frequently reported vaccines."
      ]
    },
    {
      "cell_type": "code",
      "execution_count": null,
      "id": "c36a23ad-9fb5-49e7-b1b1-cd25b98775e1",
      "metadata": {
        "id": "c36a23ad-9fb5-49e7-b1b1-cd25b98775e1",
        "outputId": "736f496d-61cc-41ee-fb14-be9c01697364"
      },
      "outputs": [
        {
          "data": {
            "text/html": [
              "<div>\n",
              "<style scoped>\n",
              "    .dataframe tbody tr th:only-of-type {\n",
              "        vertical-align: middle;\n",
              "    }\n",
              "\n",
              "    .dataframe tbody tr th {\n",
              "        vertical-align: top;\n",
              "    }\n",
              "\n",
              "    .dataframe thead th {\n",
              "        text-align: right;\n",
              "    }\n",
              "</style>\n",
              "<table border=\"1\" class=\"dataframe\">\n",
              "  <thead>\n",
              "    <tr style=\"text-align: right;\">\n",
              "      <th></th>\n",
              "      <th>VAX_TYPE</th>\n",
              "      <th>Count</th>\n",
              "    </tr>\n",
              "  </thead>\n",
              "  <tbody>\n",
              "    <tr>\n",
              "      <th>6</th>\n",
              "      <td>COVID19</td>\n",
              "      <td>1699449</td>\n",
              "    </tr>\n",
              "    <tr>\n",
              "      <th>85</th>\n",
              "      <td>VARZOS</td>\n",
              "      <td>73681</td>\n",
              "    </tr>\n",
              "    <tr>\n",
              "      <th>7</th>\n",
              "      <td>COVID19-2</td>\n",
              "      <td>59946</td>\n",
              "    </tr>\n",
              "    <tr>\n",
              "      <th>24</th>\n",
              "      <td>FLU4</td>\n",
              "      <td>35637</td>\n",
              "    </tr>\n",
              "    <tr>\n",
              "      <th>83</th>\n",
              "      <td>UNK</td>\n",
              "      <td>31802</td>\n",
              "    </tr>\n",
              "    <tr>\n",
              "      <th>79</th>\n",
              "      <td>TDAP</td>\n",
              "      <td>14056</td>\n",
              "    </tr>\n",
              "    <tr>\n",
              "      <th>44</th>\n",
              "      <td>HPV9</td>\n",
              "      <td>14013</td>\n",
              "    </tr>\n",
              "    <tr>\n",
              "      <th>70</th>\n",
              "      <td>RSV</td>\n",
              "      <td>11850</td>\n",
              "    </tr>\n",
              "    <tr>\n",
              "      <th>84</th>\n",
              "      <td>VARCEL</td>\n",
              "      <td>11444</td>\n",
              "    </tr>\n",
              "    <tr>\n",
              "      <th>33</th>\n",
              "      <td>FLUX</td>\n",
              "      <td>10381</td>\n",
              "    </tr>\n",
              "    <tr>\n",
              "      <th>68</th>\n",
              "      <td>PPV</td>\n",
              "      <td>10241</td>\n",
              "    </tr>\n",
              "    <tr>\n",
              "      <th>38</th>\n",
              "      <td>HEPA</td>\n",
              "      <td>10130</td>\n",
              "    </tr>\n",
              "    <tr>\n",
              "      <th>37</th>\n",
              "      <td>HEP</td>\n",
              "      <td>10052</td>\n",
              "    </tr>\n",
              "    <tr>\n",
              "      <th>54</th>\n",
              "      <td>MMR</td>\n",
              "      <td>9937</td>\n",
              "    </tr>\n",
              "    <tr>\n",
              "      <th>23</th>\n",
              "      <td>FLU3</td>\n",
              "      <td>9710</td>\n",
              "    </tr>\n",
              "    <tr>\n",
              "      <th>57</th>\n",
              "      <td>MNQ</td>\n",
              "      <td>9669</td>\n",
              "    </tr>\n",
              "    <tr>\n",
              "      <th>55</th>\n",
              "      <td>MMRV</td>\n",
              "      <td>8710</td>\n",
              "    </tr>\n",
              "    <tr>\n",
              "      <th>66</th>\n",
              "      <td>PNC20</td>\n",
              "      <td>7971</td>\n",
              "    </tr>\n",
              "    <tr>\n",
              "      <th>64</th>\n",
              "      <td>PNC13</td>\n",
              "      <td>7490</td>\n",
              "    </tr>\n",
              "    <tr>\n",
              "      <th>41</th>\n",
              "      <td>HIBV</td>\n",
              "      <td>6593</td>\n",
              "    </tr>\n",
              "  </tbody>\n",
              "</table>\n",
              "</div>"
            ],
            "text/plain": [
              "     VAX_TYPE    Count\n",
              "6     COVID19  1699449\n",
              "85     VARZOS    73681\n",
              "7   COVID19-2    59946\n",
              "24       FLU4    35637\n",
              "83        UNK    31802\n",
              "79       TDAP    14056\n",
              "44       HPV9    14013\n",
              "70        RSV    11850\n",
              "84     VARCEL    11444\n",
              "33       FLUX    10381\n",
              "68        PPV    10241\n",
              "38       HEPA    10130\n",
              "37        HEP    10052\n",
              "54        MMR     9937\n",
              "23       FLU3     9710\n",
              "57        MNQ     9669\n",
              "55       MMRV     8710\n",
              "66      PNC20     7971\n",
              "64      PNC13     7490\n",
              "41       HIBV     6593"
            ]
          },
          "execution_count": 24,
          "metadata": {},
          "output_type": "execute_result"
        }
      ],
      "source": [
        "Top_10_Vaccine_Used"
      ]
    },
    {
      "cell_type": "markdown",
      "id": "5dac5af0",
      "metadata": {},
      "source": [
        "### Display Top Vaccines Data\n",
        "This cell displays the top vaccines data, showing the vaccine types and their associated report counts for further visualization and analysis."
      ]
    },
    {
      "cell_type": "code",
      "execution_count": null,
      "id": "409ce3db-08a1-4f6d-8d3e-1c7680afb464",
      "metadata": {
        "id": "409ce3db-08a1-4f6d-8d3e-1c7680afb464",
        "outputId": "9fc756f6-1334-4b1a-f1ec-ccb263d2e7fe"
      },
      "outputs": [
        {
          "data": {
            "image/png": "[encoded data removed]",
            "text/plain": [
              "<Figure size 2000x700 with 1 Axes>"
            ]
          },
          "metadata": {},
          "output_type": "display_data"
        }
      ],
      "source": [
        "plt.figure(figsize=(20,7))\n",
        "sns.barplot(x=Top_10_Vaccine_Used['VAX_TYPE'][1:],y=Top_10_Vaccine_Used['Count'][1:],palette='YlOrBr',\n",
        "            hue=Top_10_Vaccine_Used['VAX_TYPE'][1:])\n",
        "plt.title(\"Top  Vaccines Used\", fontsize=18, weight='bold')\n",
        "plt.xlabel(\"Vaccine Type\", fontsize=14)\n",
        "plt.ylabel(\"Count\", fontsize=14)\n",
        "plt.tight_layout()\n",
        "plt.show()"
      ]
    },
    {
      "cell_type": "markdown",
      "id": "d903da54",
      "metadata": {},
      "source": [
        "### Visualize Top Vaccines Used\n",
        "This cell creates a bar plot to visualize the top vaccines used, making it easy to compare their report counts and identify trends."
      ]
    },
    {
      "cell_type": "code",
      "execution_count": null,
      "id": "ea16db29-327c-4321-8ee0-86de774a17d9",
      "metadata": {
        "id": "ea16db29-327c-4321-8ee0-86de774a17d9"
      },
      "outputs": [],
      "source": [
        "from wordcloud import WordCloud"
      ]
    },
    {
      "cell_type": "markdown",
      "id": "af82c555",
      "metadata": {},
      "source": [
        "### Import WordCloud Library\n",
        "This cell imports the WordCloud library, which will be used for generating word clouds from text data in subsequent analysis."
      ]
    },
    {
      "cell_type": "code",
      "execution_count": null,
      "id": "9df2d17c-2260-4c5e-8b8c-c70ba350eb1d",
      "metadata": {
        "id": "9df2d17c-2260-4c5e-8b8c-c70ba350eb1d"
      },
      "outputs": [],
      "source": []
    },
    {
      "cell_type": "code",
      "execution_count": null,
      "id": "6962e59e-e939-4161-93f6-7bc6f8c718ad",
      "metadata": {
        "id": "6962e59e-e939-4161-93f6-7bc6f8c718ad"
      },
      "outputs": [],
      "source": []
    },
    {
      "cell_type": "code",
      "execution_count": null,
      "id": "bce1f346-bf78-4b0c-aad8-7262f597b6c5",
      "metadata": {
        "id": "bce1f346-bf78-4b0c-aad8-7262f597b6c5"
      },
      "outputs": [],
      "source": []
    },
    {
      "cell_type": "code",
      "execution_count": null,
      "id": "8863b226-40db-4a2a-b8f6-30f78a00bea0",
      "metadata": {
        "id": "8863b226-40db-4a2a-b8f6-30f78a00bea0"
      },
      "outputs": [],
      "source": []
    },
    {
      "cell_type": "code",
      "execution_count": null,
      "id": "b9d958e0-e46c-424e-8b5b-7ed43ebf17d5",
      "metadata": {
        "id": "b9d958e0-e46c-424e-8b5b-7ed43ebf17d5"
      },
      "outputs": [],
      "source": []
    },
    {
      "cell_type": "code",
      "execution_count": null,
      "id": "c3b1453d-db8a-4b2c-9e4e-fd587e9aae1b",
      "metadata": {
        "id": "c3b1453d-db8a-4b2c-9e4e-fd587e9aae1b"
      },
      "outputs": [],
      "source": []
    }
  ],
  "metadata": {
    "colab": {
      "provenance": []
    },
    "kernelspec": {
      "display_name": "base",
      "language": "python",
      "name": "python3"
    },
    "language_info": {
      "codemirror_mode": {
        "name": "ipython",
        "version": 3
      },
      "file_extension": ".py",
      "mimetype": "text/x-python",
      "name": "python",
      "nbconvert_exporter": "python",
      "pygments_lexer": "ipython3",
      "version": "3.13.5"
    }
  },
  "nbformat": 4,
  "nbformat_minor": 5
}
