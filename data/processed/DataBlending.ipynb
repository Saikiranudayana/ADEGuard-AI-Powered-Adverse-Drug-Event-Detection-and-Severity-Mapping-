{
 "cells": [
  {
   "cell_type": "code",
   "execution_count": 1,
   "id": "b52258e8",
   "metadata": {},
   "outputs": [],
   "source": [
    "import os"
   ]
  },
  {
   "cell_type": "code",
   "execution_count": 2,
   "id": "4b76d0b1",
   "metadata": {},
   "outputs": [],
   "source": [
    "data_location = %pwd"
   ]
  },
  {
   "cell_type": "code",
   "execution_count": 3,
   "id": "5fbe33b6",
   "metadata": {},
   "outputs": [
    {
     "name": "stdout",
     "output_type": "stream",
     "text": [
      "[['2020VAERSSYMPTOMS.csv', '2020VAERSDATA.csv', '2020VAERSVAX.csv'], ['2021VAERSDATA.csv', '2021VAERSVAX.csv', '2021VAERSSYMPTOMS.csv'], ['2022VAERSVAX.csv', '2022VAERSDATA.csv', '2022VAERSSYMPTOMS.csv'], ['2023VAERSSYMPTOMS.csv', '2023VAERSDATA.csv', '2023VAERSVAX.csv'], ['2024VAERSSYMPTOMS.csv', '2024VAERSVAX.csv', '2024VAERSDATA.csv'], ['2025VAERSSYMPTOMS.csv', '2025VAERSDATA.csv', '2025VAERSVAX.csv']]\n"
     ]
    }
   ],
   "source": [
    "folder_name = []\n",
    "file_name = []\n",
    "for i in os.listdir(data_location):\n",
    "    if i.endswith('Data'):\n",
    "        if i not in folder_name:\n",
    "            folder_name.append(i)\n",
    "            \n",
    "folder_name.sort()\n",
    "\n",
    "for i in range(len(folder_name)):\n",
    "    folder_path = os.path.join(data_location,folder_name[i])\n",
    "    files = os.listdir(folder_path)\n",
    "    file_name.append(files)\n",
    "    \n",
    "            \n",
    "print(file_name)"
   ]
  },
  {
   "cell_type": "code",
   "execution_count": 4,
   "id": "ebfda090",
   "metadata": {},
   "outputs": [
    {
     "data": {
      "text/plain": [
       "['2020VAERSData',\n",
       " '2021VAERSData',\n",
       " '2022VAERSData',\n",
       " '2023VAERSData',\n",
       " '2024VAERSData',\n",
       " '2025VAERSData']"
      ]
     },
     "execution_count": 4,
     "metadata": {},
     "output_type": "execute_result"
    }
   ],
   "source": [
    "folder_name"
   ]
  },
  {
   "cell_type": "code",
   "execution_count": 5,
   "id": "c2b53f50",
   "metadata": {},
   "outputs": [
    {
     "data": {
      "text/plain": [
       "'/home/mrkernal/datasai/Exctracted_data/2025VAERSData'"
      ]
     },
     "execution_count": 5,
     "metadata": {},
     "output_type": "execute_result"
    }
   ],
   "source": [
    "folder_path"
   ]
  },
  {
   "cell_type": "code",
   "execution_count": 6,
   "id": "0244b70a",
   "metadata": {},
   "outputs": [
    {
     "data": {
      "text/plain": [
       "[['2020VAERSSYMPTOMS.csv', '2020VAERSDATA.csv', '2020VAERSVAX.csv'],\n",
       " ['2021VAERSDATA.csv', '2021VAERSVAX.csv', '2021VAERSSYMPTOMS.csv'],\n",
       " ['2022VAERSVAX.csv', '2022VAERSDATA.csv', '2022VAERSSYMPTOMS.csv'],\n",
       " ['2023VAERSSYMPTOMS.csv', '2023VAERSDATA.csv', '2023VAERSVAX.csv'],\n",
       " ['2024VAERSSYMPTOMS.csv', '2024VAERSVAX.csv', '2024VAERSDATA.csv'],\n",
       " ['2025VAERSSYMPTOMS.csv', '2025VAERSDATA.csv', '2025VAERSVAX.csv']]"
      ]
     },
     "execution_count": 6,
     "metadata": {},
     "output_type": "execute_result"
    }
   ],
   "source": [
    "file_name"
   ]
  },
  {
   "cell_type": "code",
   "execution_count": 7,
   "id": "78fb9b89",
   "metadata": {},
   "outputs": [
    {
     "name": "stdout",
     "output_type": "stream",
     "text": [
      "{'2020VAERSData': ['2020VAERSSYMPTOMS.csv', '2020VAERSDATA.csv', '2020VAERSVAX.csv'], '2021VAERSData': ['2021VAERSDATA.csv', '2021VAERSVAX.csv', '2021VAERSSYMPTOMS.csv'], '2022VAERSData': ['2022VAERSVAX.csv', '2022VAERSDATA.csv', '2022VAERSSYMPTOMS.csv'], '2023VAERSData': ['2023VAERSSYMPTOMS.csv', '2023VAERSDATA.csv', '2023VAERSVAX.csv'], '2024VAERSData': ['2024VAERSSYMPTOMS.csv', '2024VAERSVAX.csv', '2024VAERSDATA.csv'], '2025VAERSData': ['2025VAERSSYMPTOMS.csv', '2025VAERSDATA.csv', '2025VAERSVAX.csv']}\n"
     ]
    }
   ],
   "source": [
    "files_structure = {}\n",
    "\n",
    "for i in range(len(folder_name)):\n",
    "    files_structure[folder_name[i]]=file_name[i]\n",
    "                    \n",
    "print(files_structure)"
   ]
  },
  {
   "cell_type": "code",
   "execution_count": 8,
   "id": "ebb2e2cc",
   "metadata": {},
   "outputs": [],
   "source": [
    "import pandas as pd"
   ]
  },
  {
   "cell_type": "code",
   "execution_count": 9,
   "id": "32b0d387",
   "metadata": {},
   "outputs": [
    {
     "name": "stdout",
     "output_type": "stream",
     "text": [
      "Loading: 2020VAERSData_2020VAERSSYMPTOMS\n",
      "Loading: 2020VAERSData_2020VAERSDATA\n",
      "Loading: 2020VAERSData_2020VAERSVAX\n",
      "Loading: 2021VAERSData_2021VAERSDATA\n",
      "Loading: 2021VAERSData_2021VAERSVAX\n",
      "Loading: 2021VAERSData_2021VAERSSYMPTOMS\n",
      "Loading: 2022VAERSData_2022VAERSVAX\n",
      "Loading: 2022VAERSData_2022VAERSDATA\n",
      "Loading: 2022VAERSData_2022VAERSSYMPTOMS\n",
      "Loading: 2023VAERSData_2023VAERSSYMPTOMS\n",
      "Loading: 2023VAERSData_2023VAERSDATA\n",
      "Loading: 2023VAERSData_2023VAERSVAX\n",
      "Loading: 2024VAERSData_2024VAERSSYMPTOMS\n",
      "Loading: 2024VAERSData_2024VAERSVAX\n",
      "Loading: 2024VAERSData_2024VAERSDATA\n",
      "Loading: 2025VAERSData_2025VAERSSYMPTOMS\n",
      "Loading: 2025VAERSData_2025VAERSDATA\n",
      "Loading: 2025VAERSData_2025VAERSVAX\n"
     ]
    }
   ],
   "source": [
    "all_data = {}\n",
    "\n",
    "for i in range(len(folder_name)):\n",
    "    folder = folder_name[i]\n",
    "    for j in range(len(files_structure[folder])):\n",
    "\n",
    "        file_name = files_structure[folder][j]\n",
    "        \n",
    "        file_path = os.path.join(data_location, folder, file_name)\n",
    "        \n",
    "        key = f\"{folder}_{file_name.replace('.csv','')}\"\n",
    "        print(f\"Loading: {key}\")\n",
    "        \n",
    "        all_data[key] = pd.read_csv(file_path, low_memory=False,encoding='latin1')"
   ]
  },
  {
   "cell_type": "markdown",
   "id": "2e213387",
   "metadata": {},
   "source": [
    "### Merging 2020 Files"
   ]
  },
  {
   "cell_type": "code",
   "execution_count": 19,
   "id": "1b1b1b3c",
   "metadata": {},
   "outputs": [],
   "source": [
    "years = ['2020','2021','2022','2023','2024','2025']\n",
    "merged_data_by_year = {}\n",
    "\n",
    "for year in years:\n",
    "    symptoms_data = None\n",
    "    vaersymptoms_data = None\n",
    "    vax_data = None\n",
    "\n",
    "    for key in all_data:\n",
    "        if key.startswith(year):\n",
    "            if key.endswith('SYMPTOMS'):\n",
    "                symptoms_data = all_data[key]\n",
    "            elif key.endswith('DATA'):\n",
    "                vaersymptoms_data = all_data[key]\n",
    "            else:\n",
    "                vax_data = all_data[key]\n",
    "\n",
    "    if symptoms_data is not None and vaersymptoms_data is not None and vax_data is not None:\n",
    "        merged_df = vaersymptoms_data.merge(symptoms_data, on='VAERS_ID').merge(vax_data, on='VAERS_ID')\n",
    "        merged_data_by_year[year] = merged_df\n",
    "    else:\n",
    "        print(f\"Missing data for {year} — cannot merge.\")\n"
   ]
  },
  {
   "cell_type": "code",
   "execution_count": 11,
   "id": "6366b639",
   "metadata": {},
   "outputs": [],
   "source": [
    "COBINED_DATA_2020 = merged_data_by_year['2020']"
   ]
  },
  {
   "cell_type": "code",
   "execution_count": 12,
   "id": "e30fe5a0",
   "metadata": {},
   "outputs": [],
   "source": [
    "COBINED_DATA_2020.to_csv(\"COMBINED_DATA_2020.csv\", index=False)"
   ]
  },
  {
   "cell_type": "code",
   "execution_count": 18,
   "id": "b151226f",
   "metadata": {},
   "outputs": [],
   "source": [
    "years = ['2021','2022','2023','2024']\n",
    "\n",
    "file = \"COBINED_DATA_\"\n",
    "\n",
    "for i in years:\n",
    "    \n",
    "    COMBINED_FILE=merged_data_by_year[i]\n",
    "    \n",
    "    COMBINED_FILE.to_csv(f\"COMBINED_DATA_{i}.csv\", index=False)\n",
    "    \n",
    "    "
   ]
  },
  {
   "cell_type": "code",
   "execution_count": 20,
   "id": "5c78ebe8",
   "metadata": {},
   "outputs": [],
   "source": [
    "years = ['2025']\n",
    "\n",
    "file = \"COBINED_DATA_\"\n",
    "\n",
    "for i in years:\n",
    "    \n",
    "    COMBINED_FILE=merged_data_by_year[i]\n",
    "    \n",
    "    COMBINED_FILE.to_csv(f\"COMBINED_DATA_{i}.csv\", index=False)"
   ]
  },
  {
   "cell_type": "code",
   "execution_count": null,
   "id": "65cbc8f8",
   "metadata": {},
   "outputs": [],
   "source": []
  }
 ],
 "metadata": {
  "kernelspec": {
   "display_name": "Python (HandsOn Env)",
   "language": "python",
   "name": "handson_env"
  },
  "language_info": {
   "codemirror_mode": {
    "name": "ipython",
    "version": 3
   },
   "file_extension": ".py",
   "mimetype": "text/x-python",
   "name": "python",
   "nbconvert_exporter": "python",
   "pygments_lexer": "ipython3",
   "version": "3.13.5"
  }
 },
 "nbformat": 4,
 "nbformat_minor": 5
}
